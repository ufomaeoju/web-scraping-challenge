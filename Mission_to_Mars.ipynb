{
 "cells": [
  {
   "cell_type": "code",
   "execution_count": 1,
   "metadata": {},
   "outputs": [],
   "source": [
    "import pandas as pd\n",
    "from splinter import Browser\n",
    "from bs4 import BeautifulSoup as bs\n",
    "import time\n",
    "import requests"
   ]
  },
  {
   "cell_type": "code",
   "execution_count": 2,
   "metadata": {},
   "outputs": [],
   "source": [
    "# Use Chrome driver and pass the string chrome when creating the Browser instance:\n",
    "def init_browser():\n",
    "    executable_path = {\"executable_path\": \"chromedriver\"}\n",
    "    return Browser(\"chrome\", **executable_path, headless=False)"
   ]
  },
  {
   "cell_type": "code",
   "execution_count": 3,
   "metadata": {},
   "outputs": [],
   "source": [
    "# Define a scrape funtion with url as a parameter\n",
    "def scrape(url):\n",
    "    browser = init_browser()\n",
    "    \n",
    "    # Visit the specified url website\n",
    "    browser.visit(url)\n",
    "    \n",
    "    # Introduce an intentional delay or lag in the scraper to wait 5 second before making the next request\n",
    "    time.sleep(5)\n",
    "    \n",
    "    # Scrape page into Soup\n",
    "    html = browser.html\n",
    "    soup = bs(html, \"html.parser\")"
   ]
  },
  {
   "cell_type": "code",
   "execution_count": 4,
   "metadata": {},
   "outputs": [
    {
     "name": "stdout",
     "output_type": "stream",
     "text": [
      "{'news title': 'NASA InSight Landing on Mars: Milestones', 'news paragraph': \"On Nov. 26, NASA's InSight spacecraft will blaze through the Martian atmosphere and set a lander gently on the surface in less time than it takes to cook a hard-boiled egg.\"}\n"
     ]
    }
   ],
   "source": [
    "# Scrape the NASA Mars News Site and collect the latest News Title and Paragraph\n",
    "\n",
    "browser = init_browser()\n",
    "    \n",
    "# Visit www.mars.nasa.gov/news\n",
    "url_mars = \"https://mars.nasa.gov/news/\"\n",
    "browser.visit(url_mars)\n",
    "    \n",
    "# Introduce an intentional delay or lag in the scraper to wait 5 second before making the next request\n",
    "time.sleep(5)\n",
    "    \n",
    "# Scrape page into Soup\n",
    "html = browser.html\n",
    "soup = bs(html, \"html.parser\")\n",
    "\n",
    "# Create a dictionary to store scrape data\n",
    "articles = {}\n",
    "\n",
    "# Get the news title\n",
    "news_title = soup.find('div', class_='content_title').text\n",
    "\n",
    "# Get the news paragraph\n",
    "news_p = soup.find('div', class_='article_teaser_body').text\n",
    "    \n",
    "# Store data in a dictionary\n",
    "articles = {\n",
    "     \"news title\": news_title,\n",
    "     \"news paragraph\": news_p\n",
    " }\n",
    "\n",
    "print(articles)"
   ]
  },
  {
   "cell_type": "code",
   "execution_count": 5,
   "metadata": {},
   "outputs": [
    {
     "name": "stdout",
     "output_type": "stream",
     "text": [
      "https://www.jpl.nasa.gov/spaceimages/images/mediumsize/PIA15254_ip.jpg\n"
     ]
    }
   ],
   "source": [
    "# JPL Mars Space Images - Featured Mars Image \n",
    "\n",
    "# Visit www.mars.nasa.gov/news\n",
    "url_jpl = \"https://www.jpl.nasa.gov/spaceimages/?search=&category=Mars\"\n",
    "browser.visit(url_jpl)\n",
    "\n",
    "time.sleep(5)\n",
    "\n",
    "# Scrape page into Soup\n",
    "html = browser.html\n",
    "soup_jpl = bs(html, \"html.parser\")\n",
    "\n",
    "# Get full image for the current featured Mars image and assign it to a variable  \n",
    "base_url = \"https://www.jpl.nasa.gov\" # get the base url\n",
    "image = soup_jpl.find('a', {'id':'full_image','data-fancybox-href': True}).get('data-fancybox-href')\n",
    "featured_image_url = base_url+image\n",
    "print(featured_image_url) \n"
   ]
  },
  {
   "cell_type": "code",
   "execution_count": 6,
   "metadata": {},
   "outputs": [
    {
     "name": "stdout",
     "output_type": "stream",
     "text": [
      "Sol 2234 (2018-11-18), high 2C/35F, low -70C/-93F, pressure at 8.57 hPa, daylight 06:25-18:41\n"
     ]
    }
   ],
   "source": [
    "# Mars Weather\n",
    "\n",
    "# Visit the Mars Weather twitter account\n",
    "url_tweet = \"https://twitter.com/marswxreport?lang=en\"\n",
    "browser.visit(url_tweet)\n",
    "\n",
    "time.sleep(5)\n",
    "    \n",
    "# Scrape page into Soup\n",
    "html = browser.html\n",
    "soup_tweet = bs(html, \"html.parser\")\n",
    "\n",
    "# Get the news title\n",
    "mars_weather = soup_tweet.find('p', class_='TweetTextSize TweetTextSize--normal js-tweet-text tweet-text').text\n",
    "\n",
    "print(mars_weather)\n"
   ]
  },
  {
   "cell_type": "code",
   "execution_count": 7,
   "metadata": {},
   "outputs": [
    {
     "data": {
      "text/html": [
       "<div>\n",
       "<style scoped>\n",
       "    .dataframe tbody tr th:only-of-type {\n",
       "        vertical-align: middle;\n",
       "    }\n",
       "\n",
       "    .dataframe tbody tr th {\n",
       "        vertical-align: top;\n",
       "    }\n",
       "\n",
       "    .dataframe thead th {\n",
       "        text-align: right;\n",
       "    }\n",
       "</style>\n",
       "<table border=\"1\" class=\"dataframe\">\n",
       "  <thead>\n",
       "    <tr style=\"text-align: right;\">\n",
       "      <th></th>\n",
       "      <th>Data</th>\n",
       "    </tr>\n",
       "    <tr>\n",
       "      <th>Description</th>\n",
       "      <th></th>\n",
       "    </tr>\n",
       "  </thead>\n",
       "  <tbody>\n",
       "    <tr>\n",
       "      <th>Equatorial Diameter:</th>\n",
       "      <td>6,792 km</td>\n",
       "    </tr>\n",
       "    <tr>\n",
       "      <th>Polar Diameter:</th>\n",
       "      <td>6,752 km</td>\n",
       "    </tr>\n",
       "    <tr>\n",
       "      <th>Mass:</th>\n",
       "      <td>6.42 x 10^23 kg (10.7% Earth)</td>\n",
       "    </tr>\n",
       "    <tr>\n",
       "      <th>Moons:</th>\n",
       "      <td>2 (Phobos &amp; Deimos)</td>\n",
       "    </tr>\n",
       "    <tr>\n",
       "      <th>Orbit Distance:</th>\n",
       "      <td>227,943,824 km (1.52 AU)</td>\n",
       "    </tr>\n",
       "    <tr>\n",
       "      <th>Orbit Period:</th>\n",
       "      <td>687 days (1.9 years)</td>\n",
       "    </tr>\n",
       "    <tr>\n",
       "      <th>Surface Temperature:</th>\n",
       "      <td>-153 to 20 °C</td>\n",
       "    </tr>\n",
       "    <tr>\n",
       "      <th>First Record:</th>\n",
       "      <td>2nd millennium BC</td>\n",
       "    </tr>\n",
       "    <tr>\n",
       "      <th>Recorded By:</th>\n",
       "      <td>Egyptian astronomers</td>\n",
       "    </tr>\n",
       "  </tbody>\n",
       "</table>\n",
       "</div>"
      ],
      "text/plain": [
       "                                               Data\n",
       "Description                                        \n",
       "Equatorial Diameter:                       6,792 km\n",
       "Polar Diameter:                            6,752 km\n",
       "Mass:                 6.42 x 10^23 kg (10.7% Earth)\n",
       "Moons:                          2 (Phobos & Deimos)\n",
       "Orbit Distance:            227,943,824 km (1.52 AU)\n",
       "Orbit Period:                  687 days (1.9 years)\n",
       "Surface Temperature:                  -153 to 20 °C\n",
       "First Record:                     2nd millennium BC\n",
       "Recorded By:                   Egyptian astronomers"
      ]
     },
     "execution_count": 7,
     "metadata": {},
     "output_type": "execute_result"
    }
   ],
   "source": [
    "# Mars Facts\n",
    "\n",
    "# Visit the Mars Facts webpage and use Pandas to scrape the table containing facts about the planet\n",
    "url_facts = \"http://space-facts.com/mars/\"\n",
    "browser.visit(url_facts)\n",
    "\n",
    "time.sleep(5)\n",
    "\n",
    "# Use Pandas to scrape the table\n",
    "facts_df = pd.read_html(url_facts)\n",
    "\n",
    "# Convert the data into a dataframe\n",
    "mars_facts_df = pd.DataFrame(facts_df[0])\n",
    "\n",
    "# Rename column and set index\n",
    "mars_facts_df.columns = ['Description','Data']\n",
    "mars_facts_new = mars_facts_df.set_index(\"Description\")\n",
    "mars_facts_new\n"
   ]
  },
  {
   "cell_type": "code",
   "execution_count": 8,
   "metadata": {},
   "outputs": [
    {
     "data": {
      "text/plain": [
       "'<table border=\"1\" class=\"dataframe marsdata\">   <thead>     <tr style=\"text-align: right;\">       <th></th>       <th>Data</th>     </tr>     <tr>       <th>Description</th>       <th></th>     </tr>   </thead>   <tbody>     <tr>       <th>Equatorial Diameter:</th>       <td>6,792 km</td>     </tr>     <tr>       <th>Polar Diameter:</th>       <td>6,752 km</td>     </tr>     <tr>       <th>Mass:</th>       <td>6.42 x 10^23 kg (10.7% Earth)</td>     </tr>     <tr>       <th>Moons:</th>       <td>2 (Phobos &amp; Deimos)</td>     </tr>     <tr>       <th>Orbit Distance:</th>       <td>227,943,824 km (1.52 AU)</td>     </tr>     <tr>       <th>Orbit Period:</th>       <td>687 days (1.9 years)</td>     </tr>     <tr>       <th>Surface Temperature:</th>       <td>-153 to 20 °C</td>     </tr>     <tr>       <th>First Record:</th>       <td>2nd millennium BC</td>     </tr>     <tr>       <th>Recorded By:</th>       <td>Egyptian astronomers</td>     </tr>   </tbody> </table>'"
      ]
     },
     "execution_count": 8,
     "metadata": {},
     "output_type": "execute_result"
    }
   ],
   "source": [
    "# Convert the data to a HTML table string  \n",
    "mars_facts_html = mars_facts_new.to_html(classes='marsdata')\n",
    "mars_facts_table = mars_facts_html.replace('\\n', ' ')\n",
    "mars_facts_table"
   ]
  },
  {
   "cell_type": "code",
   "execution_count": 9,
   "metadata": {},
   "outputs": [
    {
     "name": "stdout",
     "output_type": "stream",
     "text": [
      "[{'title': 'Cerberus Hemisphere Enhanced', 'img_url': 'http://astropedia.astrogeology.usgs.gov/download/Mars/Viking/cerberus_enhanced.tif/full.jpg'}, {'title': 'Schiaparelli Hemisphere Enhanced', 'img_url': 'http://astropedia.astrogeology.usgs.gov/download/Mars/Viking/schiaparelli_enhanced.tif/full.jpg'}, {'title': 'Syrtis Major Hemisphere Enhanced', 'img_url': 'http://astropedia.astrogeology.usgs.gov/download/Mars/Viking/syrtis_major_enhanced.tif/full.jpg'}, {'title': 'Valles Marineris Hemisphere Enhanced', 'img_url': 'http://astropedia.astrogeology.usgs.gov/download/Mars/Viking/valles_marineris_enhanced.tif/full.jpg'}]\n"
     ]
    }
   ],
   "source": [
    "# Mars Hemispheres\n",
    "\n",
    "# Visit the USGS Astrogeology to get high resolution images of Mars hemisphere\n",
    "url_hemisphere = \"https://astrogeology.usgs.gov/search/results?q=hemisphere+enhanced&k1=target&v1=Mars\"\n",
    "browser.visit(url_hemisphere)\n",
    "\n",
    "# Scrape page into Soup\n",
    "html = browser.html\n",
    "soup_hemisphere = bs(html, \"html.parser\")\n",
    "\n",
    "# Get the div element that holds the images and titles. \n",
    "img_title = soup_hemisphere.find('div', class_='collapsible results')\n",
    "\n",
    "# Initialize a list to contain dictionary storing image and hemisphere title\n",
    "hemisphere_image_urls = []\n",
    "\n",
    "# Loop through tags and load the data to the dictionary\n",
    "for i in range(len(img_title.find_all(\"div\", class_=\"item\"))):\n",
    "        time.sleep(5)\n",
    "        img = browser.find_by_tag('h3')\n",
    "        img[i].click()\n",
    "        html = browser.html\n",
    "        soup = bs(html, 'html.parser')\n",
    "        title = soup.find(\"h2\", class_=\"title\").text\n",
    "        div = soup.find(\"div\", class_=\"downloads\")\n",
    "        for li in div:\n",
    "            link = div.find('a')\n",
    "        url = link.attrs['href']\n",
    "        hemisphere_dict = {\n",
    "                'title' : title,\n",
    "                'img_url' : url\n",
    "            }\n",
    "        hemisphere_image_urls.append(hemisphere_dict)\n",
    "        browser.back()\n",
    "\n",
    "print(hemisphere_image_urls)\n",
    "\n",
    "# Close the browser after scraping\n",
    "browser.quit()"
   ]
  },
  {
   "cell_type": "code",
   "execution_count": null,
   "metadata": {},
   "outputs": [],
   "source": []
  },
  {
   "cell_type": "code",
   "execution_count": null,
   "metadata": {},
   "outputs": [],
   "source": []
  }
 ],
 "metadata": {
  "kernelspec": {
   "display_name": "Python 3",
   "language": "python",
   "name": "python3"
  },
  "language_info": {
   "codemirror_mode": {
    "name": "ipython",
    "version": 3
   },
   "file_extension": ".py",
   "mimetype": "text/x-python",
   "name": "python",
   "nbconvert_exporter": "python",
   "pygments_lexer": "ipython3",
   "version": "3.6.6"
  }
 },
 "nbformat": 4,
 "nbformat_minor": 2
}
